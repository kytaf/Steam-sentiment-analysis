{
 "cells": [
  {
   "cell_type": "markdown",
   "metadata": {},
   "source": [
    "# **Steam Review Analysis**\n",
    "\n",
    "# *Bianca Finol*"
   ]
  },
  {
   "cell_type": "code",
   "execution_count": 1,
   "metadata": {},
   "outputs": [],
   "source": [
    "import pandas as pd"
   ]
  },
  {
   "cell_type": "code",
   "execution_count": 2,
   "metadata": {},
   "outputs": [
    {
     "data": {
      "text/plain": [
       "'C:\\\\Users\\\\LENOVO\\\\Documents\\\\SENECA-BUSINESS ANALITICS PG\\\\2do Semestre\\\\BAN200-Sentiment analysis and Text Mining\\\\Python practices'"
      ]
     },
     "execution_count": 2,
     "metadata": {},
     "output_type": "execute_result"
    }
   ],
   "source": [
    "pwd"
   ]
  },
  {
   "cell_type": "code",
   "execution_count": 3,
   "metadata": {},
   "outputs": [
    {
     "data": {
      "text/html": [
       "<div>\n",
       "<style scoped>\n",
       "    .dataframe tbody tr th:only-of-type {\n",
       "        vertical-align: middle;\n",
       "    }\n",
       "\n",
       "    .dataframe tbody tr th {\n",
       "        vertical-align: top;\n",
       "    }\n",
       "\n",
       "    .dataframe thead th {\n",
       "        text-align: right;\n",
       "    }\n",
       "</style>\n",
       "<table border=\"1\" class=\"dataframe\">\n",
       "  <thead>\n",
       "    <tr style=\"text-align: right;\">\n",
       "      <th></th>\n",
       "      <th>app_id</th>\n",
       "      <th>app_name</th>\n",
       "      <th>review_text</th>\n",
       "      <th>review_score</th>\n",
       "      <th>review_votes</th>\n",
       "    </tr>\n",
       "  </thead>\n",
       "  <tbody>\n",
       "    <tr>\n",
       "      <th>0</th>\n",
       "      <td>10</td>\n",
       "      <td>Counter-Strike</td>\n",
       "      <td>Ruined my life.</td>\n",
       "      <td>1</td>\n",
       "      <td>0</td>\n",
       "    </tr>\n",
       "    <tr>\n",
       "      <th>1</th>\n",
       "      <td>10</td>\n",
       "      <td>Counter-Strike</td>\n",
       "      <td>This will be more of a ''my experience with th...</td>\n",
       "      <td>1</td>\n",
       "      <td>1</td>\n",
       "    </tr>\n",
       "    <tr>\n",
       "      <th>2</th>\n",
       "      <td>10</td>\n",
       "      <td>Counter-Strike</td>\n",
       "      <td>This game saved my virginity.</td>\n",
       "      <td>1</td>\n",
       "      <td>0</td>\n",
       "    </tr>\n",
       "    <tr>\n",
       "      <th>3</th>\n",
       "      <td>10</td>\n",
       "      <td>Counter-Strike</td>\n",
       "      <td>• Do you like original games? • Do you like ga...</td>\n",
       "      <td>1</td>\n",
       "      <td>0</td>\n",
       "    </tr>\n",
       "    <tr>\n",
       "      <th>4</th>\n",
       "      <td>10</td>\n",
       "      <td>Counter-Strike</td>\n",
       "      <td>Easy to learn, hard to master.</td>\n",
       "      <td>1</td>\n",
       "      <td>1</td>\n",
       "    </tr>\n",
       "    <tr>\n",
       "      <th>...</th>\n",
       "      <td>...</td>\n",
       "      <td>...</td>\n",
       "      <td>...</td>\n",
       "      <td>...</td>\n",
       "      <td>...</td>\n",
       "    </tr>\n",
       "    <tr>\n",
       "      <th>6417101</th>\n",
       "      <td>99910</td>\n",
       "      <td>Puzzle Pirates</td>\n",
       "      <td>I really ove this game but it needs somethings...</td>\n",
       "      <td>-1</td>\n",
       "      <td>0</td>\n",
       "    </tr>\n",
       "    <tr>\n",
       "      <th>6417102</th>\n",
       "      <td>99910</td>\n",
       "      <td>Puzzle Pirates</td>\n",
       "      <td>Used to play Puzzel Pirates 'way back when', b...</td>\n",
       "      <td>-1</td>\n",
       "      <td>0</td>\n",
       "    </tr>\n",
       "    <tr>\n",
       "      <th>6417103</th>\n",
       "      <td>99910</td>\n",
       "      <td>Puzzle Pirates</td>\n",
       "      <td>This game was aright, though a bit annoying. W...</td>\n",
       "      <td>-1</td>\n",
       "      <td>0</td>\n",
       "    </tr>\n",
       "    <tr>\n",
       "      <th>6417104</th>\n",
       "      <td>99910</td>\n",
       "      <td>Puzzle Pirates</td>\n",
       "      <td>I had a nice review to recommend this game, bu...</td>\n",
       "      <td>-1</td>\n",
       "      <td>0</td>\n",
       "    </tr>\n",
       "    <tr>\n",
       "      <th>6417105</th>\n",
       "      <td>99910</td>\n",
       "      <td>Puzzle Pirates</td>\n",
       "      <td>The puzzles in this game are fun, but you have...</td>\n",
       "      <td>-1</td>\n",
       "      <td>0</td>\n",
       "    </tr>\n",
       "  </tbody>\n",
       "</table>\n",
       "<p>6417106 rows × 5 columns</p>\n",
       "</div>"
      ],
      "text/plain": [
       "         app_id        app_name  \\\n",
       "0            10  Counter-Strike   \n",
       "1            10  Counter-Strike   \n",
       "2            10  Counter-Strike   \n",
       "3            10  Counter-Strike   \n",
       "4            10  Counter-Strike   \n",
       "...         ...             ...   \n",
       "6417101   99910  Puzzle Pirates   \n",
       "6417102   99910  Puzzle Pirates   \n",
       "6417103   99910  Puzzle Pirates   \n",
       "6417104   99910  Puzzle Pirates   \n",
       "6417105   99910  Puzzle Pirates   \n",
       "\n",
       "                                               review_text  review_score  \\\n",
       "0                                          Ruined my life.             1   \n",
       "1        This will be more of a ''my experience with th...             1   \n",
       "2                            This game saved my virginity.             1   \n",
       "3        • Do you like original games? • Do you like ga...             1   \n",
       "4                 Easy to learn, hard to master.                       1   \n",
       "...                                                    ...           ...   \n",
       "6417101  I really ove this game but it needs somethings...            -1   \n",
       "6417102  Used to play Puzzel Pirates 'way back when', b...            -1   \n",
       "6417103  This game was aright, though a bit annoying. W...            -1   \n",
       "6417104  I had a nice review to recommend this game, bu...            -1   \n",
       "6417105  The puzzles in this game are fun, but you have...            -1   \n",
       "\n",
       "         review_votes  \n",
       "0                   0  \n",
       "1                   1  \n",
       "2                   0  \n",
       "3                   0  \n",
       "4                   1  \n",
       "...               ...  \n",
       "6417101             0  \n",
       "6417102             0  \n",
       "6417103             0  \n",
       "6417104             0  \n",
       "6417105             0  \n",
       "\n",
       "[6417106 rows x 5 columns]"
      ]
     },
     "execution_count": 3,
     "metadata": {},
     "output_type": "execute_result"
    }
   ],
   "source": [
    "dataset=pd.read_csv('dataset.csv')\n",
    "dataset"
   ]
  },
  {
   "cell_type": "code",
   "execution_count": 4,
   "metadata": {},
   "outputs": [
    {
     "data": {
      "text/html": [
       "<div>\n",
       "<style scoped>\n",
       "    .dataframe tbody tr th:only-of-type {\n",
       "        vertical-align: middle;\n",
       "    }\n",
       "\n",
       "    .dataframe tbody tr th {\n",
       "        vertical-align: top;\n",
       "    }\n",
       "\n",
       "    .dataframe thead th {\n",
       "        text-align: right;\n",
       "    }\n",
       "</style>\n",
       "<table border=\"1\" class=\"dataframe\">\n",
       "  <thead>\n",
       "    <tr style=\"text-align: right;\">\n",
       "      <th></th>\n",
       "      <th>review_text</th>\n",
       "      <th>word_count</th>\n",
       "    </tr>\n",
       "  </thead>\n",
       "  <tbody>\n",
       "    <tr>\n",
       "      <th>0</th>\n",
       "      <td>Ruined my life.</td>\n",
       "      <td>3</td>\n",
       "    </tr>\n",
       "    <tr>\n",
       "      <th>1</th>\n",
       "      <td>This will be more of a ''my experience with th...</td>\n",
       "      <td>454</td>\n",
       "    </tr>\n",
       "    <tr>\n",
       "      <th>2</th>\n",
       "      <td>This game saved my virginity.</td>\n",
       "      <td>5</td>\n",
       "    </tr>\n",
       "    <tr>\n",
       "      <th>3</th>\n",
       "      <td>• Do you like original games? • Do you like ga...</td>\n",
       "      <td>48</td>\n",
       "    </tr>\n",
       "    <tr>\n",
       "      <th>4</th>\n",
       "      <td>Easy to learn, hard to master.</td>\n",
       "      <td>24</td>\n",
       "    </tr>\n",
       "  </tbody>\n",
       "</table>\n",
       "</div>"
      ],
      "text/plain": [
       "                                         review_text  word_count\n",
       "0                                    Ruined my life.           3\n",
       "1  This will be more of a ''my experience with th...         454\n",
       "2                      This game saved my virginity.           5\n",
       "3  • Do you like original games? • Do you like ga...          48\n",
       "4           Easy to learn, hard to master.                    24"
      ]
     },
     "execution_count": 4,
     "metadata": {},
     "output_type": "execute_result"
    }
   ],
   "source": [
    "# Number of word. We use the split function to split the data and count. \n",
    "\n",
    "dataset['word_count'] = dataset['review_text'].apply(lambda x: len(str(x).split(\" \")))\n",
    "dataset[['review_text','word_count']].head()"
   ]
  },
  {
   "cell_type": "code",
   "execution_count": 5,
   "metadata": {},
   "outputs": [
    {
     "data": {
      "text/html": [
       "<div>\n",
       "<style scoped>\n",
       "    .dataframe tbody tr th:only-of-type {\n",
       "        vertical-align: middle;\n",
       "    }\n",
       "\n",
       "    .dataframe tbody tr th {\n",
       "        vertical-align: top;\n",
       "    }\n",
       "\n",
       "    .dataframe thead th {\n",
       "        text-align: right;\n",
       "    }\n",
       "</style>\n",
       "<table border=\"1\" class=\"dataframe\">\n",
       "  <thead>\n",
       "    <tr style=\"text-align: right;\">\n",
       "      <th></th>\n",
       "      <th>review_text</th>\n",
       "      <th>char_count</th>\n",
       "    </tr>\n",
       "  </thead>\n",
       "  <tbody>\n",
       "    <tr>\n",
       "      <th>0</th>\n",
       "      <td>Ruined my life.</td>\n",
       "      <td>15.0</td>\n",
       "    </tr>\n",
       "    <tr>\n",
       "      <th>1</th>\n",
       "      <td>This will be more of a ''my experience with th...</td>\n",
       "      <td>2357.0</td>\n",
       "    </tr>\n",
       "    <tr>\n",
       "      <th>2</th>\n",
       "      <td>This game saved my virginity.</td>\n",
       "      <td>29.0</td>\n",
       "    </tr>\n",
       "    <tr>\n",
       "      <th>3</th>\n",
       "      <td>• Do you like original games? • Do you like ga...</td>\n",
       "      <td>220.0</td>\n",
       "    </tr>\n",
       "    <tr>\n",
       "      <th>4</th>\n",
       "      <td>Easy to learn, hard to master.</td>\n",
       "      <td>48.0</td>\n",
       "    </tr>\n",
       "  </tbody>\n",
       "</table>\n",
       "</div>"
      ],
      "text/plain": [
       "                                         review_text  char_count\n",
       "0                                    Ruined my life.        15.0\n",
       "1  This will be more of a ''my experience with th...      2357.0\n",
       "2                      This game saved my virginity.        29.0\n",
       "3  • Do you like original games? • Do you like ga...       220.0\n",
       "4           Easy to learn, hard to master.                  48.0"
      ]
     },
     "execution_count": 5,
     "metadata": {},
     "output_type": "execute_result"
    }
   ],
   "source": [
    "# Number of characters\n",
    "dataset['char_count'] = dataset['review_text'].str.len() ## this also includes spaces\n",
    "dataset[['review_text','char_count']].head()"
   ]
  },
  {
   "cell_type": "markdown",
   "metadata": {},
   "source": [
    "# Basic pre-procesing of text data: "
   ]
  },
  {
   "cell_type": "code",
   "execution_count": 6,
   "metadata": {},
   "outputs": [
    {
     "data": {
      "text/plain": [
       "0                                      ruined my life.\n",
       "1    this will be more of a ''my experience with th...\n",
       "2                        this game saved my virginity.\n",
       "3    • do you like original games? • do you like ga...\n",
       "4                       easy to learn, hard to master.\n",
       "Name: review_text, dtype: object"
      ]
     },
     "execution_count": 6,
     "metadata": {},
     "output_type": "execute_result"
    }
   ],
   "source": [
    "# Lower casing:  This avoids having multiple copies of the same words\n",
    "\n",
    "dataset['review_text'] = dataset['review_text'].apply(lambda x: \" \".join(x.lower() for x in str(x).split()))\n",
    "dataset['review_text'].head()\n"
   ]
  },
  {
   "cell_type": "code",
   "execution_count": 7,
   "metadata": {},
   "outputs": [
    {
     "name": "stderr",
     "output_type": "stream",
     "text": [
      "<ipython-input-7-505bddccd423>:3: FutureWarning: The default value of regex will change from True to False in a future version.\n",
      "  dataset['review_text'] = dataset['review_text'].str.replace('[^\\w\\s]','')\n"
     ]
    },
    {
     "data": {
      "text/plain": [
       "0                                       ruined my life\n",
       "1    this will be more of a my experience with this...\n",
       "2                         this game saved my virginity\n",
       "3     do you like original games  do you like games...\n",
       "4                         easy to learn hard to master\n",
       "Name: review_text, dtype: object"
      ]
     },
     "execution_count": 7,
     "metadata": {},
     "output_type": "execute_result"
    }
   ],
   "source": [
    "# Removing Punctuation: \n",
    "\n",
    "dataset['review_text'] = dataset['review_text'].str.replace('[^\\w\\s]','')\n",
    "dataset['review_text'].head()"
   ]
  },
  {
   "cell_type": "code",
   "execution_count": 8,
   "metadata": {},
   "outputs": [],
   "source": [
    "# Removal of Stop Words: Part of the cleaning data is removing stop words. \n",
    "from nltk.corpus import stopwords"
   ]
  },
  {
   "cell_type": "code",
   "execution_count": 9,
   "metadata": {},
   "outputs": [],
   "source": [
    "stop = stopwords.words('english')"
   ]
  },
  {
   "cell_type": "code",
   "execution_count": 10,
   "metadata": {},
   "outputs": [],
   "source": [
    "dataset['review_text'] = dataset['review_text'].apply(lambda x: \" \".join(x for x in str(x).split() if x not in stop))\n"
   ]
  },
  {
   "cell_type": "code",
   "execution_count": 11,
   "metadata": {},
   "outputs": [
    {
     "data": {
      "text/plain": [
       "0                                          ruined life\n",
       "1    experience game type review saying things like...\n",
       "2                                 game saved virginity\n",
       "3    like original games like games dont lag like g...\n",
       "4                               easy learn hard master\n",
       "Name: review_text, dtype: object"
      ]
     },
     "execution_count": 11,
     "metadata": {},
     "output_type": "execute_result"
    }
   ],
   "source": [
    "dataset['review_text'].head()"
   ]
  },
  {
   "cell_type": "code",
   "execution_count": 12,
   "metadata": {},
   "outputs": [
    {
     "data": {
      "text/plain": [
       "0                                          ruined life\n",
       "1    experience game type review saying things like...\n",
       "2                                  game saved virginia\n",
       "3    like original games like games dont law like g...\n",
       "4                               easy learn hard master\n",
       "Name: review_text, dtype: object"
      ]
     },
     "execution_count": 12,
     "metadata": {},
     "output_type": "execute_result"
    }
   ],
   "source": [
    "# Spelling correction\n",
    "\n",
    "from textblob import TextBlob\n",
    "dataset['review_text'][:5].apply(lambda x: str(TextBlob(x).correct()))"
   ]
  },
  {
   "cell_type": "code",
   "execution_count": 13,
   "metadata": {},
   "outputs": [
    {
     "data": {
      "text/plain": [
       "0                                            ruin life\n",
       "1    experi game type review say thing like great g...\n",
       "2                                     game save virgin\n",
       "3    like origin game like game dont lag like game ...\n",
       "4                               easi learn hard master\n",
       "Name: review_text, dtype: object"
      ]
     },
     "execution_count": 13,
     "metadata": {},
     "output_type": "execute_result"
    }
   ],
   "source": [
    "# Stemming\n",
    "from nltk.stem import PorterStemmer\n",
    "st = PorterStemmer()\n",
    "dataset['review_text'][:5].apply(lambda x: \" \".join([st.stem(word) for word in x.split()]))"
   ]
  },
  {
   "cell_type": "code",
   "execution_count": 14,
   "metadata": {},
   "outputs": [
    {
     "data": {
      "text/plain": [
       "0                                          ruined life\n",
       "1    experience game type review saying thing like ...\n",
       "2                                 game saved virginity\n",
       "3    like original game like game dont lag like gam...\n",
       "4                               easy learn hard master\n",
       "Name: review_text, dtype: object"
      ]
     },
     "execution_count": 14,
     "metadata": {},
     "output_type": "execute_result"
    }
   ],
   "source": [
    "#Lemmatization\n",
    "from textblob import Word\n",
    "dataset['review_text'] = dataset['review_text'].apply(lambda x: \" \".join([Word(word).lemmatize() for word in x.split()]))\n",
    "dataset['review_text'].head()"
   ]
  },
  {
   "cell_type": "code",
   "execution_count": 15,
   "metadata": {},
   "outputs": [
    {
     "data": {
      "text/plain": [
       "WordList(['experience', 'game', 'type', 'review', 'saying', 'thing', 'like', 'great', 'gameplay', 'suit', 'something', 'ive', 'experienced', 'counterstrike', 'go', 'remember', 'back', '2002', 'friend', 'house', 'playing', 'game', 'didnt', 'know', 'name', 'game', 'internet', 'find', 'week', 'passed', 'another', 'friend', 'came', 'didnt', 'computer', 'brought', 'disc', 'game', 'told', 'one', 'best', 'game', 'moment', 'knew', 'going', 'game', 'saw', 'friend', 'house', 'saw', 'counterstrike', 'logo', 'filled', 'gamegasm', 'happy', 'playing', 'hardcore', 'made', 'friend', 'clan', 'involved', 'community', 'even', 'made', 'two', 'counterstrike', 'first', 'game', 'played', 'competitively', 'experience', 'playing', 'public', 'server', 'mod', 'fun', 'playing', 'competitively', 'made', 'intense', 'stressful', 'pleasant', 'way', 'ofcourse', 'looking', 'current', 'esport', 'scene', 'might', 'seem', 'like', 'much', 'back', 'different', 'shooter', 'day', 'try', 'different', 'advanced', 'way', 'sometimes', 'simple', 'game', 'like', 'counterstrike', 'one', 'live', 'day', 'also', 'plenty', 'mod', 'keep', 'attention', 'game', 'gameplay', 'simple', 'defend', 'counterterrorist', 'attack', 'terrorist', 'plant', 'bomb', 'save', 'hostage', 'ct', 'sure', 'already', 'know', 'doubt', 'gamers', 'havent', 'heard', 'know', 'gameplay', 'counterstrike', 'sharing', 'experience', 'wish', 'could', 'find', 'c', 'anthology', 'account', 'ive', 'lost', 'since', '2008', 'decided', 'going', 'buy', 'game', 'go', 'thousand', 'hour', 'played', 'still', 'play', 'time', 'time', 'day', 'brings', 'back', 'many', 'great', 'memory', 'sometimes', 'even', 'stumble', 'upon', 'people', 'ive', 'played', 'year', 'ago', 'think', 'counterstrike', 'changed', 'gaming', 'major', 'way', 'wouldnt', 'many', 'game', 'like', 'today', 'game', 'wouldnt', 'exist', 'sure', 'many', 'people', 'already', 'played', 'game', 'like', 'csgo', 'never', 'root', 'doubt', 'play', 'hour', 'much', 'simple', 'differs', 'lot', 'opinion', 'csgo', 'modern', 'game', 'harder', 'though'])"
      ]
     },
     "execution_count": 15,
     "metadata": {},
     "output_type": "execute_result"
    }
   ],
   "source": [
    "# Tokenization\n",
    "\n",
    "TextBlob(dataset['review_text'][1]).words"
   ]
  },
  {
   "cell_type": "code",
   "execution_count": 16,
   "metadata": {},
   "outputs": [
    {
     "data": {
      "text/plain": [
       "[Sentence(\"experience game type review saying thing like great gameplay suit something ive experienced counterstrike go remember back 2002 friend house playing game didnt know name game internet find week passed another friend came didnt computer brought disc game told one best game moment knew going game saw friend house saw counterstrike logo filled gamegasm happy playing hardcore made friend clan involved community even made two counterstrike first game played competitively experience playing public server mod fun playing competitively made intense stressful pleasant way ofcourse looking current esport scene might seem like much back different shooter day try different advanced way sometimes simple game like counterstrike one live day also plenty mod keep attention game gameplay simple defend counterterrorist attack terrorist plant bomb save hostage ct sure already know doubt gamers havent heard know gameplay counterstrike sharing experience wish could find c anthology account ive lost since 2008 decided going buy game go thousand hour played still play time time day brings back many great memory sometimes even stumble upon people ive played year ago think counterstrike changed gaming major way wouldnt many game like today game wouldnt exist sure many people already played game like csgo never root doubt play hour much simple differs lot opinion csgo modern game harder though\")]"
      ]
     },
     "execution_count": 16,
     "metadata": {},
     "output_type": "execute_result"
    }
   ],
   "source": [
    "TextBlob(dataset['review_text'][1]).sentences"
   ]
  },
  {
   "cell_type": "code",
   "execution_count": null,
   "metadata": {},
   "outputs": [],
   "source": [
    "# Split the data in training and testing\n",
    "training_data = dataset['review_text'].sample(frac=0.8, random_state=25)\n",
    "testing_data = dataset['review_text'].drop(training_data.index)\n",
    "\n",
    "print(f\"No. of training examples: {training_data.shape[0]}\")\n",
    "print(f\"No. of testing examples: {testing_data.shape[0]}\")"
   ]
  },
  {
   "cell_type": "code",
   "execution_count": null,
   "metadata": {},
   "outputs": [],
   "source": [
    "training_data.head()"
   ]
  },
  {
   "cell_type": "code",
   "execution_count": null,
   "metadata": {},
   "outputs": [],
   "source": []
  },
  {
   "cell_type": "code",
   "execution_count": null,
   "metadata": {},
   "outputs": [],
   "source": []
  },
  {
   "cell_type": "code",
   "execution_count": null,
   "metadata": {},
   "outputs": [],
   "source": []
  },
  {
   "cell_type": "code",
   "execution_count": null,
   "metadata": {},
   "outputs": [],
   "source": []
  },
  {
   "cell_type": "code",
   "execution_count": null,
   "metadata": {},
   "outputs": [],
   "source": []
  },
  {
   "cell_type": "code",
   "execution_count": null,
   "metadata": {},
   "outputs": [],
   "source": []
  },
  {
   "cell_type": "code",
   "execution_count": null,
   "metadata": {},
   "outputs": [],
   "source": []
  },
  {
   "cell_type": "code",
   "execution_count": null,
   "metadata": {},
   "outputs": [],
   "source": []
  },
  {
   "cell_type": "code",
   "execution_count": null,
   "metadata": {},
   "outputs": [],
   "source": []
  }
 ],
 "metadata": {
  "kernelspec": {
   "display_name": "Python 3",
   "language": "python",
   "name": "python3"
  },
  "language_info": {
   "codemirror_mode": {
    "name": "ipython",
    "version": 3
   },
   "file_extension": ".py",
   "mimetype": "text/x-python",
   "name": "python",
   "nbconvert_exporter": "python",
   "pygments_lexer": "ipython3",
   "version": "3.8.5"
  }
 },
 "nbformat": 4,
 "nbformat_minor": 4
}
